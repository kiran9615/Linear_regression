{
  "nbformat": 4,
  "nbformat_minor": 0,
  "metadata": {
    "colab": {
      "name": "Polynomial regression.ipynb",
      "provenance": [],
      "collapsed_sections": [
        "yz4UmUkb0vw3",
        "xtpaZ7iv1eBf"
      ],
      "authorship_tag": "ABX9TyNObCIfsWMMr66Ar2mi+vjK",
      "include_colab_link": true
    },
    "kernelspec": {
      "name": "python3",
      "display_name": "Python 3"
    },
    "language_info": {
      "name": "python"
    }
  },
  "cells": [
    {
      "cell_type": "markdown",
      "metadata": {
        "id": "view-in-github",
        "colab_type": "text"
      },
      "source": [
        "<a href=\"https://colab.research.google.com/github/kiran9615/Linear_regression/blob/main/Polynomial_regression.ipynb\" target=\"_parent\"><img src=\"https://colab.research.google.com/assets/colab-badge.svg\" alt=\"Open In Colab\"/></a>"
      ]
    },
    {
      "cell_type": "markdown",
      "source": [
        "#Polynomial regression"
      ],
      "metadata": {
        "id": "yz4UmUkb0vw3"
      }
    },
    {
      "cell_type": "code",
      "execution_count": null,
      "metadata": {
        "id": "ZEvfqkvnquAL"
      },
      "outputs": [],
      "source": [
        "#importing libraries\n",
        "import numpy as np\n",
        "import matplotlib.pyplot as plt\n",
        "from sklearn.model_selection import train_test_split\n",
        "from sklearn.linear_model import LinearRegression\n",
        "from sklearn.preprocessing import PolynomialFeatures\n",
        "from sklearn.metrics import r2_score"
      ]
    },
    {
      "cell_type": "code",
      "source": [
        "len(np.random.randn(200, 1))   #printing length of sample of 200 no. from standard normal distribution"
      ],
      "metadata": {
        "colab": {
          "base_uri": "https://localhost:8080/"
        },
        "id": "mqLG4zoXqw2y",
        "outputId": "d3375d3a-eea0-46b8-c4a6-a2c839a026f4"
      },
      "execution_count": null,
      "outputs": [
        {
          "output_type": "execute_result",
          "data": {
            "text/plain": [
              "200"
            ]
          },
          "metadata": {},
          "execution_count": 2
        }
      ]
    },
    {
      "cell_type": "code",
      "source": [
        "np.random.randn(5)    #to get sample of 5 no. from standard normal distribution"
      ],
      "metadata": {
        "colab": {
          "base_uri": "https://localhost:8080/"
        },
        "id": "smob6JwArlUV",
        "outputId": "c52c0264-e0f0-46d2-8a09-9991be0f682b"
      },
      "execution_count": null,
      "outputs": [
        {
          "output_type": "execute_result",
          "data": {
            "text/plain": [
              "array([ 0.19098296,  0.48952049,  0.63899806, -0.82213558, -0.33740151])"
            ]
          },
          "metadata": {},
          "execution_count": 3
        }
      ]
    },
    {
      "cell_type": "code",
      "source": [
        "X = 6 * np.random.rand(200, 1) - 3   #defining x values\n",
        "y = 0.8 * X**2 + 0.9*X + 2 + np.random.randn(200, 1)   #defining y values\n",
        "#equation used -> y = 0.8x^2 + 0.9x + 2\n",
        "#visualize the data\n",
        "plt.plot(X, y, 'b.')\n",
        "plt.xlabel(\"X\")   #to get x axis label\n",
        "plt.ylabel(\"Y\")   #to get y axis label\n",
        "plt.show()"
      ],
      "metadata": {
        "colab": {
          "base_uri": "https://localhost:8080/",
          "height": 279
        },
        "id": "-JftV2CssD__",
        "outputId": "c85f9029-d2f3-4290-cb41-93ae13aa25eb"
      },
      "execution_count": null,
      "outputs": [
        {
          "output_type": "display_data",
          "data": {
            "image/png": "[encoded data removed]",
            "text/plain": [
              "<Figure size 432x288 with 1 Axes>"
            ]
          },
          "metadata": {
            "needs_background": "light"
          }
        }
      ]
    },
    {
      "cell_type": "code",
      "source": [
        "#splitting the data into train and test data\n",
        "x_train, x_test, y_train, y_test = train_test_split(X, y, test_size=0.2, random_state=2)  "
      ],
      "metadata": {
        "id": "QWaWSru7s3lA"
      },
      "execution_count": null,
      "outputs": []
    },
    {
      "cell_type": "code",
      "source": [
        "#Linear regression model\n",
        "lr = LinearRegression()\n",
        "lr.fit(x_train, y_train)\n",
        "y_pred = lr.predict(x_test)   #predicting y values for x test values\n",
        "print(r2_score(y_test, y_pred))   #r2 score for test data"
      ],
      "metadata": {
        "colab": {
          "base_uri": "https://localhost:8080/"
        },
        "id": "OeIaFft8tEVu",
        "outputId": "dcd32107-465a-41f4-91b9-7766b90d0c51"
      },
      "execution_count": null,
      "outputs": [
        {
          "output_type": "stream",
          "name": "stdout",
          "text": [
            "0.5144116526426803\n"
          ]
        }
      ]
    },
    {
      "cell_type": "code",
      "source": [
        "plt.plot(x_train, lr.predict(x_train), color=\"r\")   #plotting a line for x train and y values predictedacross x train\n",
        "plt.plot(X, y, \"b.\")  #plotting the data\n",
        "plt.xlabel(\"X\")\n",
        "plt.ylabel(\"Y\")\n",
        "plt.show()"
      ],
      "metadata": {
        "colab": {
          "base_uri": "https://localhost:8080/",
          "height": 279
        },
        "id": "WPpq8-bJtk9r",
        "outputId": "b92bb651-9158-419b-be04-ea3caa527708"
      },
      "execution_count": null,
      "outputs": [
        {
          "output_type": "display_data",
          "data": {
            "image/png": "[encoded data removed]",
            "text/plain": [
              "<Figure size 432x288 with 1 Axes>"
            ]
          },
          "metadata": {
            "needs_background": "light"
          }
        }
      ]
    },
    {
      "cell_type": "code",
      "source": [
        "#applying polynomial regression degree 2\n",
        "poly = PolynomialFeatures(degree=2, include_bias=True)\n",
        "x_train_trans = poly.fit_transform(x_train)\n",
        "x_test_trans = poly.transform(x_test)\n",
        "lr = LinearRegression()\n",
        "lr.fit(x_train_trans, y_train)"
      ],
      "metadata": {
        "colab": {
          "base_uri": "https://localhost:8080/"
        },
        "id": "XYBM-j-8ttEt",
        "outputId": "21ba30c4-516a-4f97-ff52-27d6d195488b"
      },
      "execution_count": null,
      "outputs": [
        {
          "output_type": "execute_result",
          "data": {
            "text/plain": [
              "LinearRegression()"
            ]
          },
          "metadata": {},
          "execution_count": 8
        }
      ]
    },
    {
      "cell_type": "code",
      "source": [
        "y_pred = lr.predict(x_test_trans)\n",
        "y_pred"
      ],
      "metadata": {
        "colab": {
          "base_uri": "https://localhost:8080/"
        },
        "id": "EH9uZ4UPvtb4",
        "outputId": "54b2efd1-4bd1-44b1-8670-c91cb2686a76"
      },
      "execution_count": null,
      "outputs": [
        {
          "output_type": "execute_result",
          "data": {
            "text/plain": [
              "array([[ 1.93658294],\n",
              "       [ 9.48802582],\n",
              "       [ 5.81542388],\n",
              "       [ 3.79567645],\n",
              "       [ 4.39112359],\n",
              "       [ 6.28062797],\n",
              "       [ 1.98573273],\n",
              "       [ 3.64697922],\n",
              "       [ 8.14179144],\n",
              "       [ 1.98312068],\n",
              "       [ 2.07969406],\n",
              "       [ 1.93840799],\n",
              "       [ 2.33314623],\n",
              "       [ 2.36312752],\n",
              "       [ 3.03222204],\n",
              "       [ 7.36390787],\n",
              "       [ 6.70171529],\n",
              "       [ 8.07298388],\n",
              "       [ 2.11551542],\n",
              "       [ 7.7275763 ],\n",
              "       [10.99263023],\n",
              "       [10.49160716],\n",
              "       [ 2.49068974],\n",
              "       [ 9.91556061],\n",
              "       [ 7.36896817],\n",
              "       [ 2.25841319],\n",
              "       [ 3.7544371 ],\n",
              "       [ 3.92273287],\n",
              "       [ 1.97161521],\n",
              "       [ 4.45848437],\n",
              "       [ 9.86238547],\n",
              "       [ 2.76527454],\n",
              "       [ 3.37517349],\n",
              "       [ 2.93804976],\n",
              "       [ 2.04127521],\n",
              "       [ 2.1438162 ],\n",
              "       [ 4.32766106],\n",
              "       [ 2.23434635],\n",
              "       [ 9.98870832],\n",
              "       [ 3.40728853]])"
            ]
          },
          "metadata": {},
          "execution_count": 9
        }
      ]
    },
    {
      "cell_type": "code",
      "source": [
        "print(r2_score(y_test, y_pred))"
      ],
      "metadata": {
        "colab": {
          "base_uri": "https://localhost:8080/"
        },
        "id": "ct-JtuzMvwPs",
        "outputId": "7f812a89-ec0e-408b-8183-1d09c8d91eac"
      },
      "execution_count": null,
      "outputs": [
        {
          "output_type": "stream",
          "name": "stdout",
          "text": [
            "0.9008300676149141\n"
          ]
        }
      ]
    },
    {
      "cell_type": "code",
      "source": [
        "print(lr.coef_)\n",
        "print(lr.intercept_)"
      ],
      "metadata": {
        "colab": {
          "base_uri": "https://localhost:8080/"
        },
        "id": "IXCbiKaRvyf2",
        "outputId": "04edd789-9905-4c20-e2fa-da4f32640d05"
      },
      "execution_count": null,
      "outputs": [
        {
          "output_type": "stream",
          "name": "stdout",
          "text": [
            "[[0.         0.85779967 0.78179744]]\n",
            "[2.16733395]\n"
          ]
        }
      ]
    },
    {
      "cell_type": "code",
      "source": [
        "plt.plot(x_test, y_pred, \"r_\", linewidth=2)\n",
        "plt.plot(x_test, y_test, \"b.\", linewidth=2, label=\"Predictions\")\n",
        "plt.xlabel(\"X\")\n",
        "plt.ylabel(\"y\")\n",
        "plt.legend()\n",
        "plt.show()"
      ],
      "metadata": {
        "colab": {
          "base_uri": "https://localhost:8080/",
          "height": 279
        },
        "id": "T0pmtTLLwIi1",
        "outputId": "387c8438-e944-43cb-87f9-58db7e1ea53f"
      },
      "execution_count": null,
      "outputs": [
        {
          "output_type": "display_data",
          "data": {
            "image/png": "[encoded data removed]",
            "text/plain": [
              "<Figure size 432x288 with 1 Axes>"
            ]
          },
          "metadata": {
            "needs_background": "light"
          }
        }
      ]
    },
    {
      "cell_type": "code",
      "source": [
        "X_new = np.linspace(-3, 3, 200).reshape(200, 1)\n",
        "X_new_poly = poly.transform(X_new)\n",
        "y_new = lr.predict(X_new_poly)\n",
        "plt.plot(X_new, y_new, \"r-\", linewidth=2, label=\"Predictions\")\n",
        "plt.plot(x_train, y_train, \"b.\",label='Training points')\n",
        "plt.plot(x_test, y_test, \"g.\",label='Testing points')\n",
        "plt.xlabel(\"X\")\n",
        "plt.ylabel(\"y\")\n",
        "plt.legend()\n",
        "plt.show()\n"
      ],
      "metadata": {
        "colab": {
          "base_uri": "https://localhost:8080/",
          "height": 279
        },
        "id": "UVLDKHF3ypHa",
        "outputId": "939f3e94-f093-4d5e-a9fd-42e58b23e916"
      },
      "execution_count": null,
      "outputs": [
        {
          "output_type": "display_data",
          "data": {
            "image/png": "[encoded data removed]",
            "text/plain": [
              "<Figure size 432x288 with 1 Axes>"
            ]
          },
          "metadata": {
            "needs_background": "light"
          }
        }
      ]
    }
  ]
}